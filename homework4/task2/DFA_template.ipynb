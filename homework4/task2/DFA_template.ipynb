{
 "cells": [
  {
   "cell_type": "code",
   "execution_count": 2,
   "id": "ba8fa8af",
   "metadata": {},
   "outputs": [],
   "source": [
    "import hashlib\n",
    "import numpy as np\n",
    "\n",
    "from tqdm import tqdm"
   ]
  },
  {
   "cell_type": "markdown",
   "id": "561c6cdb",
   "metadata": {},
   "source": [
    "# DFA by Piret and Quisquater\n",
    "\n",
    "This template is constructed to aid with implementing both the `simple` and `full` DFA variants needed for the homework."
   ]
  },
  {
   "cell_type": "code",
   "execution_count": 31,
   "id": "f80a5086",
   "metadata": {},
   "outputs": [],
   "source": [
    "SBOX = np.array([\n",
    "        0x63, 0x7C, 0x77, 0x7B, 0xF2, 0x6B, 0x6F, 0xC5, 0x30, 0x01, 0x67, 0x2B, 0xFE, 0xD7, 0xAB, 0x76,\n",
    "        0xCA, 0x82, 0xC9, 0x7D, 0xFA, 0x59, 0x47, 0xF0, 0xAD, 0xD4, 0xA2, 0xAF, 0x9C, 0xA4, 0x72, 0xC0,\n",
    "        0xB7, 0xFD, 0x93, 0x26, 0x36, 0x3F, 0xF7, 0xCC, 0x34, 0xA5, 0xE5, 0xF1, 0x71, 0xD8, 0x31, 0x15,\n",
    "        0x04, 0xC7, 0x23, 0xC3, 0x18, 0x96, 0x05, 0x9A, 0x07, 0x12, 0x80, 0xE2, 0xEB, 0x27, 0xB2, 0x75,\n",
    "        0x09, 0x83, 0x2C, 0x1A, 0x1B, 0x6E, 0x5A, 0xA0, 0x52, 0x3B, 0xD6, 0xB3, 0x29, 0xE3, 0x2F, 0x84,\n",
    "        0x53, 0xD1, 0x00, 0xED, 0x20, 0xFC, 0xB1, 0x5B, 0x6A, 0xCB, 0xBE, 0x39, 0x4A, 0x4C, 0x58, 0xCF,\n",
    "        0xD0, 0xEF, 0xAA, 0xFB, 0x43, 0x4D, 0x33, 0x85, 0x45, 0xF9, 0x02, 0x7F, 0x50, 0x3C, 0x9F, 0xA8,\n",
    "        0x51, 0xA3, 0x40, 0x8F, 0x92, 0x9D, 0x38, 0xF5, 0xBC, 0xB6, 0xDA, 0x21, 0x10, 0xFF, 0xF3, 0xD2,\n",
    "        0xCD, 0x0C, 0x13, 0xEC, 0x5F, 0x97, 0x44, 0x17, 0xC4, 0xA7, 0x7E, 0x3D, 0x64, 0x5D, 0x19, 0x73,\n",
    "        0x60, 0x81, 0x4F, 0xDC, 0x22, 0x2A, 0x90, 0x88, 0x46, 0xEE, 0xB8, 0x14, 0xDE, 0x5E, 0x0B, 0xDB,\n",
    "        0xE0, 0x32, 0x3A, 0x0A, 0x49, 0x06, 0x24, 0x5C, 0xC2, 0xD3, 0xAC, 0x62, 0x91, 0x95, 0xE4, 0x79,\n",
    "        0xE7, 0xC8, 0x37, 0x6D, 0x8D, 0xD5, 0x4E, 0xA9, 0x6C, 0x56, 0xF4, 0xEA, 0x65, 0x7A, 0xAE, 0x08,\n",
    "        0xBA, 0x78, 0x25, 0x2E, 0x1C, 0xA6, 0xB4, 0xC6, 0xE8, 0xDD, 0x74, 0x1F, 0x4B, 0xBD, 0x8B, 0x8A,\n",
    "        0x70, 0x3E, 0xB5, 0x66, 0x48, 0x03, 0xF6, 0x0E, 0x61, 0x35, 0x57, 0xB9, 0x86, 0xC1, 0x1D, 0x9E,\n",
    "        0xE1, 0xF8, 0x98, 0x11, 0x69, 0xD9, 0x8E, 0x94, 0x9B, 0x1E, 0x87, 0xE9, 0xCE, 0x55, 0x28, 0xDF,\n",
    "        0x8C, 0xA1, 0x89, 0x0D, 0xBF, 0xE6, 0x42, 0x68, 0x41, 0x99, 0x2D, 0x0F, 0xB0, 0x54, 0xBB, 0x16\n",
    "], dtype=np.uint8)\n",
    "\n",
    "# Inverse of AES SBOX\n",
    "ISBOX = SBOX.argsort()\n",
    "\n",
    "# AES MixCols matrix\n",
    "MIXCOLS = np.array([[2, 3, 1, 1],\n",
    "                    [1, 2, 3, 1],\n",
    "                    [1, 1, 2, 3],\n",
    "                    [3, 1, 1, 2]])\n",
    "\n"
   ]
  },
  {
   "cell_type": "code",
   "execution_count": 1,
   "id": "20837b90",
   "metadata": {},
   "outputs": [],
   "source": [
    "# Check if you got the right answer for the 4 keybytes in the first column (key at indices [0, 13, 10, 7])\n",
    "# Note: We're referring to the round 10 keybytes (no need to rewind with the the key schedule)\n",
    "# Note: The same key is used both for the `simple` and `full` DFA\n",
    "\n",
    "def check_keybytes(k_0: int, k_13: int, k_10: int, k_7: int):\n",
    "    keybytes = bytes([k_0, k_13, k_10, k_7])\n",
    "    hasher = hashlib.sha3_256()\n",
    "    hasher.update(keybytes)\n",
    "    key_hash = hasher.hexdigest()\n",
    "    if key_hash == '4409976e63e88e6d0ef93405e6b6d678c2a498d22dcaa72b28c8c9cd6233ec7f':\n",
    "        print(\"Congratulations! Correct 4 keybytes found\")\n",
    "        return True\n",
    "    \n",
    "    print(\"Not quite right\")\n",
    "    return False"
   ]
  },
  {
   "cell_type": "code",
   "execution_count": null,
   "id": "8c12c5e5",
   "metadata": {},
   "outputs": [
    {
     "ename": "",
     "evalue": "",
     "output_type": "error",
     "traceback": [
      "\u001b[1;31mRunning cells with '/opt/homebrew/bin/python3.9' requires the ipykernel package.\n",
      "\u001b[1;31mRun the following command to install 'ipykernel' into the Python environment. \n",
      "\u001b[1;31mCommand: '/opt/homebrew/bin/python3.9 -m pip install ipykernel -U --user --force-reinstall'"
     ]
    }
   ],
   "source": [
    "# Two pairs of ciphertext/faulty texts.\n",
    "# The fault is injected in the *first byte* before the MixCols in the 9th round\n",
    "# Note: use for `simple` DFA (part C)\n",
    "\n",
    "simple_ctxt1 = [174, 44, 204, 43, 18, 196, 238, 88, 3, 227, 92, 0, 137, 106, 205, 88]\n",
    "simple_ftxt1 = [128, 44, 204, 43, 18, 196, 238, 171, 3, 227, 159, 0, 137, 186, 205, 88]\n",
    "\n",
    "simple_ctxt2 = [41, 4, 148, 29, 23, 74, 41, 127, 125, 148, 36, 219, 29, 127, 4, 58]\n",
    "simple_ftxt2 = [186, 4, 148, 29, 23, 74, 41, 160, 125, 148, 59, 219, 29, 172, 4, 58]\n",
    "\n",
    "\n",
    "# Load ctext/ftext pairs in the correct AES column order\n",
    "simple_ctxt1 = np.reshape(simple_ctxt1, (4, 4), order='F').astype(np.uint8)\n",
    "simple_ftxt1 = np.reshape(simple_ftxt1, (4, 4), order='F').astype(np.uint8)\n",
    "\n",
    "simple_ctxt2 = np.reshape(simple_ctxt2, (4, 4), order='F').astype(np.uint8)\n",
    "simple_ftxt2 = np.reshape(simple_ftxt2, (4, 4), order='F').astype(np.uint8)\n",
    "\n",
    "print(\"First pair diff:\")\n",
    "print(simple_ctxt1 ^ simple_ftxt1)\n",
    "\n",
    "print(\"Second pair diff:\")\n",
    "print(simple_ctxt2 ^ simple_ftxt2)"
   ]
  },
  {
   "cell_type": "code",
   "execution_count": 33,
   "id": "eb64cca0",
   "metadata": {},
   "outputs": [
    {
     "name": "stdout",
     "output_type": "stream",
     "text": [
      "[[  0   0   0 109]\n",
      " [  0   0  50   0]\n",
      " [  0   3   0   0]\n",
      " [206   0   0   0]]\n"
     ]
    }
   ],
   "source": [
    "# Load all plaintexts/ciphertexts/faultytexts in the correct AES column order\n",
    "# Note: not needed for the `simple` DFA (part C) \n",
    "\n",
    "row_type = np.dtype((np.uint8, (4, 4)))\n",
    "all_ctext = np.fromfile(\"full_dfa_data/ctext.bin\", dtype=row_type).transpose(0, 2, 1)\n",
    "all_ptext = np.fromfile(\"full_dfa_data/ptext.bin\", dtype=row_type).transpose(0, 2, 1)\n",
    "all_ftext = np.fromfile(\"full_dfa_data/ftext.bin\", dtype=row_type).transpose(0, 2, 1)\n",
    "\n",
    "print(all_ctext[0] ^ all_ftext[0])"
   ]
  },
  {
   "cell_type": "code",
   "execution_count": 34,
   "id": "cbdde4d8",
   "metadata": {},
   "outputs": [],
   "source": [
    "# Galois multiplication by 2 (for MixCols)\n",
    "def galois_mult_2(a):\n",
    "    temp = (a << 1) & 0xff\n",
    "\n",
    "    if (a & 0x80):\n",
    "        temp ^= 0x1b\n",
    "\n",
    "    return temp\n",
    "\n",
    "# Galois multiplication by 3 (for MixCols)\n",
    "def galois_mult_3(a):\n",
    "    return galois_mult_2(a) ^ a"
   ]
  },
  {
   "cell_type": "code",
   "execution_count": 35,
   "id": "0fe9a71b",
   "metadata": {},
   "outputs": [],
   "source": [
    "# AES ShiftRows\n",
    "# `mat` is 4x4 AES matrix\n",
    "def shift(mat):\n",
    "    shifted = np.zeros_like(mat)\n",
    "    for i in range(4):\n",
    "        shifted[i] = mat[i, np.arange(i, 4+i) % 4]\n",
    "    return shifted\n",
    "\n",
    "# TODO: implement your own. Should undo shift(mat)\n",
    "def unshift(mat):\n",
    "    pass\n"
   ]
  },
  {
   "cell_type": "code",
   "execution_count": 36,
   "id": "a945dc4f",
   "metadata": {},
   "outputs": [
    {
     "name": "stdout",
     "output_type": "stream",
     "text": [
      "Length of lookup table: 255\n"
     ]
    }
   ],
   "source": [
    "# Precompute all possible mixcols(glitch)\n",
    "# TODO: Only works if glitch is in the first row! \n",
    "#       For `full` DFA need to add more entries to make it work for glitches in any row\n",
    "\n",
    "D = []\n",
    "mixcol = MIXCOLS[:, 0]\n",
    "for x in range(1, 255+1):\n",
    "    D_element = []\n",
    "    for j in range(4):\n",
    "        out = None\n",
    "        if mixcol[j] == 1:\n",
    "            out = x\n",
    "        if mixcol[j] == 2:\n",
    "            out = galois_mult_2(x)\n",
    "        if mixcol[j] == 3:\n",
    "            out = galois_mult_3(x)\n",
    "        D_element.append(out)\n",
    "    D.append(D_element)\n",
    "\n",
    "print(\"Length of lookup table:\", len(D))"
   ]
  },
  {
   "cell_type": "markdown",
   "id": "cce71aaf",
   "metadata": {},
   "source": [
    "# Simple Attack Algorithm (finds 4 bytes):\n",
    "\n",
    "## Variable Definitions\n",
    "Let $c, c'$ be the first (ciphertext, faultytext) pair and $c, c^{*\\prime}$ be the second pair.\n",
    "Note: $c_0$ refers to the $0$ index byte of the ciphertext\n",
    "\n",
    "## Preliminary Filtering\n",
    "1. For each $K_0 \\in 0 \\text{ to } 255$ and $K_{13} \\in 0 \\text{ to } 255$, and $x \\in 1 \\text{ to } 255$\n",
    "    - Check if $ISBOX(K_0 \\oplus c_0) \\oplus ISBOX(K_0 \\oplus c_0') \\stackrel{?}{=} D[x, 0]$\n",
    "    - Check if $ISBOX(K_{13} \\oplus c_{13}) \\oplus ISBOX(K_{13} \\oplus c_{13}') \\stackrel{?}{=} D[x, 1]$\n",
    "\n",
    "    - If both are true, add candidates $\\{K_0, K_{13}\\}$ to group $K_{c2}$\n",
    "2. For each $K_{10} \\in 0 \\text{ to } 255$, and $\\{K_{0}, K_{13}\\} \\in K_{c2}$, and $x \\in 1 \\text{ to } 255$\n",
    "    - Check if $ISBOX(K_0 \\oplus c_0) \\oplus ISBOX(K_0 \\oplus c_0') \\stackrel{?}{=} D[x, 0]$\n",
    "    - Check if $ISBOX(K_{13} \\oplus c_{13}) \\oplus ISBOX(K_{13} \\oplus c_{13}') \\stackrel{?}{=} D[x, 1]$\n",
    "    - Check if $ISBOX(K_{10} \\oplus c_{10}) \\oplus ISBOX(K_{10} \\oplus c_{10}') \\stackrel{?}{=} D[x, 2]$\n",
    "\n",
    "    - If so, add candidates $\\{K_0, K_{13}, K_{10}\\}$ to group $K_{c3}$\n",
    "3. For each $K_{7} \\in 0 \\text{ to } 255$, and $\\{K_{0}, K_{13}, K_{10}\\} \\in K_{c3}$, and $x \\in 1 \\text{ to } 255$\n",
    "    - Check if $ISBOX(K_0 \\oplus c_0) \\oplus ISBOX(K_0 \\oplus c_0') \\stackrel{?}{=} D[x, 0]$\n",
    "    - Check if $ISBOX(K_{13} \\oplus c_{13}) \\oplus ISBOX(K_{13} \\oplus c_{13}') \\stackrel{?}{=} D[x, 1]$\n",
    "    - Check if $ISBOX(K_{10} \\oplus c_{10}) \\oplus ISBOX(K_{10} \\oplus c_{10}') \\stackrel{?}{=} D[x, 2]$\n",
    "    - Check if $ISBOX(K_{7} \\oplus c_{7}) \\oplus ISBOX(K_{7} \\oplus c_{7}') \\stackrel{?}{=} D[x, 3]$\n",
    "\n",
    "    - If so, add candidates $\\{K_0, K_{13}, K_{10}, K_{7}\\}$ to group $K_{c4}$\n",
    "    \n",
    "## Finding Final Candidate\n",
    "1. For each $\\{K_{0}, K_{13}, K_{10}, K_7\\} \\in K_{c4}$, and $x \\in 1 \\text{ to } 255$\n",
    "  - $ISBOX(K_0 \\oplus c^{*}_0) \\oplus ISBOX(K_0 \\oplus c^{*\\prime}_0) \\stackrel{?}{=} D[x, 0]$\n",
    "  - $ISBOX(K_{13} \\oplus c^{*}_{13}) \\oplus ISBOX(K_{13} \\oplus c^{*\\prime}_{13}) \\stackrel{?}{=} D[x, 1]$\n",
    "  - $ISBOX(K_{10} \\oplus c^{*}_{10}) \\oplus ISBOX(K_{10} \\oplus c^{*\\prime}_{10}) \\stackrel{?}{=} D[x, 2]$\n",
    "  - $ISBOX(K_{7} \\oplus c^{*}_{7}) \\oplus ISBOX(K_{7} \\oplus c^{*\\prime}_{7}) \\stackrel{?}{=} D[x, 3]$\n",
    "  - If all are true $\\{K_0, K_{13}, K_{10}, K_{7}\\}$, are likely correct keybytes\n",
    "\n",
    "\n",
    "# Indexing Tips:\n",
    "You can access elements such as $c_{0}, c_{13}, c_{10}, c_{7}$ by using np.unravel() like this:"
   ]
  },
  {
   "cell_type": "code",
   "execution_count": 27,
   "id": "ee86c233",
   "metadata": {},
   "outputs": [],
   "source": [
    "c13 = simple_ctxt1[np.unravel_index(13, shape=(4,4), order='F')]"
   ]
  },
  {
   "cell_type": "code",
   "execution_count": 28,
   "id": "32594970",
   "metadata": {},
   "outputs": [],
   "source": [
    "# Perform `simple` DFA below: you should use (`simple_ctxt1`, `simple_ftxt1`) and (`simple_ctxt2`, `simple_ftxt2`)\n",
    "# Note: remember to use `check_keybytes()` function to check your answer!\n",
    "def simple_attack():\n",
    "    pass"
   ]
  },
  {
   "cell_type": "code",
   "execution_count": 29,
   "id": "34720f4e",
   "metadata": {},
   "outputs": [],
   "source": [
    "# Perform `full` DFA below: you should use `all_ctext` and `all_ftext`\n",
    "# Note: You can still use `check_keybytes()` function to check your answer for the first 4 keybytes\n",
    "# Note: After recovering the whole key, you need to rewind the key schedule to get the original key\n",
    "#       You can you use the python library `aeskeyschedule` (pip install aeskeyschedule) if you wish\n",
    "def full_attack():\n",
    "    pass"
   ]
  },
  {
   "cell_type": "code",
   "execution_count": 30,
   "id": "19884ea5",
   "metadata": {},
   "outputs": [],
   "source": [
    "# After recovering the full key, decrypt the secret message:\n",
    "# You can use the `pycryptodome` library \n",
    "secret = bytes.fromhex(\"2a92fc6ad8006b658f49062c2843ad99\")"
   ]
  }
 ],
 "metadata": {
  "kernelspec": {
   "display_name": "Python 3 (ipykernel)",
   "language": "python",
   "name": "python3"
  },
  "language_info": {
   "codemirror_mode": {
    "name": "ipython",
    "version": 3
   },
   "file_extension": ".py",
   "mimetype": "text/x-python",
   "name": "python",
   "nbconvert_exporter": "python",
   "pygments_lexer": "ipython3",
   "version": "3.11.2"
  }
 },
 "nbformat": 4,
 "nbformat_minor": 5
}
